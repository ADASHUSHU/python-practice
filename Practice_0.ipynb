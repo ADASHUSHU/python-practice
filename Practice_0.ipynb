{
 "cells": [
  {
   "cell_type": "code",
   "execution_count": 9,
   "metadata": {},
   "outputs": [],
   "source": [
    "from PIL import Image,ImageDraw, ImageFont, ImageColor\n",
    "def add_num(img):\n",
    "    draw= ImageDraw.Draw(img)\n",
    "    myfont = ImageFont.truetype('Arial.ttf',size=40)\n",
    "    fillcolor=ImageColor.colormap.get('red')\n",
    "    width,height = img.size\n",
    "    draw.text((width-30,0),'2',font=myfont,fill=fillcolor)\n",
    "    img.save('pikachu_marked.jpg','jpeg')\n",
    "    return 0\n",
    "if __name__=='__main__':\n",
    "    image = Image.open('pikachu.jpg')\n",
    "    add_num(image)"
   ]
  },
  {
   "cell_type": "code",
   "execution_count": null,
   "metadata": {},
   "outputs": [],
   "source": []
  }
 ],
 "metadata": {
  "kernelspec": {
   "display_name": "Python 3",
   "language": "python",
   "name": "python3"
  },
  "language_info": {
   "codemirror_mode": {
    "name": "ipython",
    "version": 3
   },
   "file_extension": ".py",
   "mimetype": "text/x-python",
   "name": "python",
   "nbconvert_exporter": "python",
   "pygments_lexer": "ipython3",
   "version": "3.6.3"
  }
 },
 "nbformat": 4,
 "nbformat_minor": 2
}
